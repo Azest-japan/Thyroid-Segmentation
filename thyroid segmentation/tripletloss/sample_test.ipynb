{
 "cells": [
  {
   "cell_type": "code",
   "execution_count": 7,
   "metadata": {},
   "outputs": [],
   "source": [
    "import tensorflow as tf\n",
    "from tensorflow import keras\n",
    "from tensorflow.keras.models import Model, load_model\n",
    "from tensorflow.keras import metrics\n",
    "from tensorflow.keras.layers import Conv2D, AveragePooling2D, Flatten, Dense, BatchNormalization, Activation, Input, add, Dropout, Conv2DTranspose, UpSampling2D, concatenate\n",
    "from tensorflow.compat.v1.keras.backend import set_session\n",
    "from tensorflow.keras.callbacks import ModelCheckpoint, EarlyStopping\n",
    "from tensorflow.keras.datasets import mnist\n",
    "\n",
    "from tensorflow.keras import backend as K\n",
    "\n",
    "import numpy as np"
   ]
  },
  {
   "cell_type": "code",
   "execution_count": 4,
   "metadata": {},
   "outputs": [],
   "source": [
    "(x_train, y_train), (x_test, y_test) = mnist.load_data()\n",
    "x_train  = x_train.astype('float32')\n",
    "x_test   = x_test.astype('float32')\n",
    "x_train /= 255\n",
    "x_test  /= 255"
   ]
  },
  {
   "cell_type": "code",
   "execution_count": 55,
   "metadata": {},
   "outputs": [],
   "source": [
    "n_classes = 10\n",
    "index_dic = {}\n",
    "pic_dic = {}\n",
    "\n",
    "for i in range(n_classes):\n",
    "    index_dic[i] = np.random.permutation(np.where(y_train == i)[0])[:4000]\n",
    "    pic_dic[i] = x_train[index_dic[i]]"
   ]
  },
  {
   "cell_type": "code",
   "execution_count": 85,
   "metadata": {},
   "outputs": [
    {
     "data": {
      "text/plain": [
       "49151"
      ]
     },
     "execution_count": 85,
     "metadata": {},
     "output_type": "execute_result"
    }
   ],
   "source": [
    "random.choice(list(index_dic[0]))"
   ]
  },
  {
   "cell_type": "code",
   "execution_count": 56,
   "metadata": {},
   "outputs": [
    {
     "name": "stdout",
     "output_type": "stream",
     "text": [
      "num_batch: 40\n"
     ]
    }
   ],
   "source": [
    "'''\n",
    "import itertools\n",
    "\n",
    "num_per_cat_batch = 10\n",
    "num_batch = int(len(index_dic[1]) / n_classes / num_per_cat_batch)\n",
    "\n",
    "print('num_batch:', num_batch)\n",
    "\n",
    "x_mini_batch = []\n",
    "y_mini_batch = []\n",
    "\n",
    "for mini in range(1,num_batch+1):\n",
    "    \n",
    "    x_temp = []\n",
    "    y_temp = []\n",
    "    pos_pairs = []\n",
    "    \n",
    "    for i in range(n_classes):\n",
    "        x_temp.append(list(pic_dic[i])[num_per_cat_batch * (mini-1) : num_per_cat_batch * mini])\n",
    "        y_temp.append([i] * num_per_cat_batch)\n",
    "        pos_itrs = itertools.permutations(list(pic_dic[i])[num_per_cat_batch * (mini-1) : num_per_cat_batch * mini],2)\n",
    "        \n",
    "        for itr in pos_itrs: \n",
    "            pos_pairs.append([itr[0],itr[1]])        \n",
    "'''"
   ]
  },
  {
   "cell_type": "code",
   "execution_count": 88,
   "metadata": {},
   "outputs": [
    {
     "name": "stdout",
     "output_type": "stream",
     "text": [
      "num_batch: 40\n"
     ]
    }
   ],
   "source": [
    "import itertools\n",
    "import random\n",
    "\n",
    "num_per_cat_batch = 10\n",
    "num_batch = int(len(index_dic[1]) / n_classes / num_per_cat_batch)\n",
    "\n",
    "print('num_batch:', num_batch)\n",
    "\n",
    "x_mini_batch = []\n",
    "y_mini_batch = []\n",
    "\n",
    "for mini in range(1,num_batch+1):\n",
    "    \n",
    "    x_temp = []\n",
    "    y_temp = []\n",
    "    pos_pairs = []\n",
    "    pair_class = []\n",
    "\n",
    "    \n",
    "    for i in range(n_classes):\n",
    "        x_temp.append(list(index_dic[i])[num_per_cat_batch * (mini-1) : num_per_cat_batch * mini])\n",
    "        y_temp.append([i] * num_per_cat_batch)\n",
    "        pos_itrs = itertools.permutations(list(index_dic[i])[num_per_cat_batch * (mini-1) : num_per_cat_batch * mini],2)\n",
    "        \n",
    "        for itr in pos_itrs:\n",
    "            pos_pairs.append([itr[0],itr[1]])\n",
    "            pair_class.append(i)\n",
    "    \n",
    "    for idx, pair in enumerate(pos_pairs):\n",
    "        p_class = pair_class[idx]\n",
    "        n_class_list = []\n",
    "        for i in range(n_classes):\n",
    "            if i != p_class:\n",
    "                n_class_list += list(index_dic[i])\n",
    "       # pair.append(random.choice(n_class_list))\n",
    "                "
   ]
  },
  {
   "cell_type": "code",
   "execution_count": null,
   "metadata": {},
   "outputs": [],
   "source": []
  }
 ],
 "metadata": {
  "kernelspec": {
   "display_name": "Python 3",
   "language": "python",
   "name": "python3"
  },
  "language_info": {
   "codemirror_mode": {
    "name": "ipython",
    "version": 3
   },
   "file_extension": ".py",
   "mimetype": "text/x-python",
   "name": "python",
   "nbconvert_exporter": "python",
   "pygments_lexer": "ipython3",
   "version": "3.7.4"
  }
 },
 "nbformat": 4,
 "nbformat_minor": 4
}
